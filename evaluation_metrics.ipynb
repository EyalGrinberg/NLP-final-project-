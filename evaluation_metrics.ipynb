{
 "cells": [
  {
   "cell_type": "code",
   "execution_count": 1,
   "metadata": {},
   "outputs": [
    {
     "name": "stdout",
     "output_type": "stream",
     "text": [
      "Collecting rouge-score\n",
      "  Downloading rouge_score-0.1.2.tar.gz (17 kB)\n",
      "  Preparing metadata (setup.py): started\n",
      "  Preparing metadata (setup.py): finished with status 'done'\n",
      "Requirement already satisfied: absl-py in c:\\users\\user\\appdata\\local\\packages\\pythonsoftwarefoundation.python.3.10_qbz5n2kfra8p0\\localcache\\local-packages\\python310\\site-packages (from rouge-score) (1.4.0)\n",
      "Collecting nltk (from rouge-score)\n",
      "  Downloading nltk-3.8.1-py3-none-any.whl.metadata (2.8 kB)\n",
      "Requirement already satisfied: numpy in c:\\users\\user\\appdata\\local\\packages\\pythonsoftwarefoundation.python.3.10_qbz5n2kfra8p0\\localcache\\local-packages\\python310\\site-packages (from rouge-score) (1.23.4)\n",
      "Requirement already satisfied: six>=1.14.0 in c:\\users\\user\\appdata\\local\\packages\\pythonsoftwarefoundation.python.3.10_qbz5n2kfra8p0\\localcache\\local-packages\\python310\\site-packages (from rouge-score) (1.16.0)\n",
      "Collecting click (from nltk->rouge-score)\n",
      "  Downloading click-8.1.7-py3-none-any.whl.metadata (3.0 kB)\n",
      "Requirement already satisfied: joblib in c:\\users\\user\\appdata\\local\\packages\\pythonsoftwarefoundation.python.3.10_qbz5n2kfra8p0\\localcache\\local-packages\\python310\\site-packages (from nltk->rouge-score) (1.2.0)\n",
      "Requirement already satisfied: regex>=2021.8.3 in c:\\users\\user\\appdata\\local\\packages\\pythonsoftwarefoundation.python.3.10_qbz5n2kfra8p0\\localcache\\local-packages\\python310\\site-packages (from nltk->rouge-score) (2023.12.25)\n",
      "Requirement already satisfied: tqdm in c:\\users\\user\\appdata\\local\\packages\\pythonsoftwarefoundation.python.3.10_qbz5n2kfra8p0\\localcache\\local-packages\\python310\\site-packages (from nltk->rouge-score) (4.66.1)\n",
      "Requirement already satisfied: colorama in c:\\users\\user\\appdata\\local\\packages\\pythonsoftwarefoundation.python.3.10_qbz5n2kfra8p0\\localcache\\local-packages\\python310\\site-packages (from click->nltk->rouge-score) (0.4.6)\n",
      "Downloading nltk-3.8.1-py3-none-any.whl (1.5 MB)\n",
      "   ---------------------------------------- 0.0/1.5 MB ? eta -:--:--\n",
      "    --------------------------------------- 0.0/1.5 MB 1.4 MB/s eta 0:00:02\n",
      "   -- ------------------------------------- 0.1/1.5 MB 1.1 MB/s eta 0:00:02\n",
      "   ---- ----------------------------------- 0.2/1.5 MB 1.3 MB/s eta 0:00:02\n",
      "   -------- ------------------------------- 0.3/1.5 MB 1.7 MB/s eta 0:00:01\n",
      "   ---------------- ----------------------- 0.6/1.5 MB 2.8 MB/s eta 0:00:01\n",
      "   ------------------------ --------------- 0.9/1.5 MB 3.4 MB/s eta 0:00:01\n",
      "   --------------------------------- ------ 1.3/1.5 MB 4.0 MB/s eta 0:00:01\n",
      "   ---------------------------------------  1.5/1.5 MB 4.4 MB/s eta 0:00:01\n",
      "   ---------------------------------------  1.5/1.5 MB 4.4 MB/s eta 0:00:01\n",
      "   ---------------------------------------- 1.5/1.5 MB 3.4 MB/s eta 0:00:00\n",
      "Downloading click-8.1.7-py3-none-any.whl (97 kB)\n",
      "   ---------------------------------------- 0.0/97.9 kB ? eta -:--:--\n",
      "   ---------------------------------------- 97.9/97.9 kB 2.8 MB/s eta 0:00:00\n",
      "Building wheels for collected packages: rouge-score\n",
      "  Building wheel for rouge-score (setup.py): started\n",
      "  Building wheel for rouge-score (setup.py): finished with status 'done'\n",
      "  Created wheel for rouge-score: filename=rouge_score-0.1.2-py3-none-any.whl size=24970 sha256=18937cbb518d3bb11944e142f6c0149bd21c7cb27ce34d8b9ad4d8fdf4d041ef\n",
      "  Stored in directory: c:\\users\\user\\appdata\\local\\packages\\pythonsoftwarefoundation.python.3.10_qbz5n2kfra8p0\\localcache\\local\\pip\\cache\\wheels\\5f\\dd\\89\\461065a73be61a532ff8599a28e9beef17985c9e9c31e541b4\n",
      "Successfully built rouge-score\n",
      "Installing collected packages: click, nltk, rouge-score\n",
      "Successfully installed click-8.1.7 nltk-3.8.1 rouge-score-0.1.2\n",
      "Note: you may need to restart the kernel to use updated packages.\n"
     ]
    }
   ],
   "source": [
    "pip install rouge-score"
   ]
  },
  {
   "cell_type": "code",
   "execution_count": 5,
   "metadata": {},
   "outputs": [],
   "source": [
    "from rouge_score import rouge_scorer\n",
    "import pandas as pd"
   ]
  },
  {
   "cell_type": "code",
   "execution_count": 14,
   "metadata": {},
   "outputs": [],
   "source": [
    "def evaluate_rouge(golden, generated):\n",
    "    scorer = rouge_scorer.RougeScorer(['rouge1', 'rouge2', 'rougeL'], use_stemmer=True)\n",
    "    return scorer.score(golden, generated)"
   ]
  },
  {
   "cell_type": "code",
   "execution_count": 7,
   "metadata": {},
   "outputs": [],
   "source": [
    "generated_docstrings_data = pd.read_csv(\"function 10 all 3 models.csv\")"
   ]
  },
  {
   "cell_type": "code",
   "execution_count": 11,
   "metadata": {},
   "outputs": [],
   "source": [
    "gpt_docstring_function_10 = generated_docstrings_data.loc[10, \"GPT-3.5 Turbo\"]\n",
    "claude_docstring_function_10 = generated_docstrings_data.loc[10, \"claude\"]\n",
    "gemini_docstring_function_10 = generated_docstrings_data.loc[10, \"Gemini\"]\n",
    "\n",
    "golden_docstring_function_10 = generated_docstrings_data.loc[10, \"Golden Docstring\"]"
   ]
  },
  {
   "cell_type": "code",
   "execution_count": 22,
   "metadata": {},
   "outputs": [
    {
     "name": "stdout",
     "output_type": "stream",
     "text": [
      "{'rouge1': Score(precision=0.8108108108108109, recall=0.8571428571428571, fmeasure=0.8333333333333334), 'rouge2': Score(precision=0.6944444444444444, recall=0.7352941176470589, fmeasure=0.7142857142857144), 'rougeL': Score(precision=0.7837837837837838, recall=0.8285714285714286, fmeasure=0.8055555555555555)}\n",
      "{'rouge1': Score(precision=0.417910447761194, recall=0.8, fmeasure=0.5490196078431372), 'rouge2': Score(precision=0.24242424242424243, recall=0.47058823529411764, fmeasure=0.32), 'rougeL': Score(precision=0.373134328358209, recall=0.7142857142857143, fmeasure=0.49019607843137253)}\n",
      "{'rouge1': Score(precision=0.8484848484848485, recall=0.8, fmeasure=0.823529411764706), 'rouge2': Score(precision=0.5625, recall=0.5294117647058824, fmeasure=0.5454545454545455), 'rougeL': Score(precision=0.696969696969697, recall=0.6571428571428571, fmeasure=0.676470588235294)}\n"
     ]
    }
   ],
   "source": [
    "print(evaluate_rouge(golden_docstring_function_10, gpt_docstring_function_10))\n",
    "print(evaluate_rouge(golden_docstring_function_10, claude_docstring_function_10))\n",
    "print(evaluate_rouge(golden_docstring_function_10, gemini_docstring_function_10))\n",
    "\n"
   ]
  },
  {
   "cell_type": "code",
   "execution_count": 27,
   "metadata": {},
   "outputs": [
    {
     "name": "stdout",
     "output_type": "stream",
     "text": [
      "    Computes the difference between sparse matrices represented as dictionaries.\n",
      "    Args:\n",
      "    - lst (list): A list of dictionaries representing sparse matrices.\n",
      "    Returns:\n",
      "    - dict: A dictionary representing the result of the subtraction of all sparse matrices in the input list.\n"
     ]
    }
   ],
   "source": [
    "print(gpt_docstring_function_10)"
   ]
  },
  {
   "cell_type": "code",
   "execution_count": 25,
   "metadata": {},
   "outputs": [
    {
     "name": "stdout",
     "output_type": "stream",
     "text": [
      " \"\"\"Iteratively computes the difference of sparse matrices stored in dictionaries by subtracting corresponding entries.\n",
      "\n",
      "Args:\n",
      "- lst (list): a list of dictionaries, where each dictionary represents a sparse matrix with integer entries. \n",
      "\n",
      "Returns: \n",
      "- dict: the dictionary representing the difference matrix, with entries corresponding to the subtraction of matrices in lst. Entries not present in all matrices will have the value of the negative entry from the subtracting matrix.\n",
      "\"\"\"\n"
     ]
    }
   ],
   "source": [
    "print(claude_docstring_function_10)"
   ]
  },
  {
   "cell_type": "code",
   "execution_count": 28,
   "metadata": {},
   "outputs": [],
   "source": [
    "t5 = pd.read_csv(\"T5 BaseLine docstring generation.csv\")"
   ]
  },
  {
   "cell_type": "code",
   "execution_count": 32,
   "metadata": {},
   "outputs": [],
   "source": [
    "a = t5.loc[10, \"T5 BaseLine docstring generation\"]"
   ]
  },
  {
   "cell_type": "code",
   "execution_count": 33,
   "metadata": {},
   "outputs": [
    {
     "data": {
      "text/plain": [
       "{'rouge1': Score(precision=0.8, recall=0.11428571428571428, fmeasure=0.19999999999999998),\n",
       " 'rouge2': Score(precision=0.5, recall=0.058823529411764705, fmeasure=0.10526315789473684),\n",
       " 'rougeL': Score(precision=0.8, recall=0.11428571428571428, fmeasure=0.19999999999999998)}"
      ]
     },
     "execution_count": 33,
     "metadata": {},
     "output_type": "execute_result"
    }
   ],
   "source": [
    "evaluate_rouge(golden_docstring_function_10, a)"
   ]
  }
 ],
 "metadata": {
  "kernelspec": {
   "display_name": "Python 3",
   "language": "python",
   "name": "python3"
  },
  "language_info": {
   "codemirror_mode": {
    "name": "ipython",
    "version": 3
   },
   "file_extension": ".py",
   "mimetype": "text/x-python",
   "name": "python",
   "nbconvert_exporter": "python",
   "pygments_lexer": "ipython3",
   "version": "3.10.11"
  }
 },
 "nbformat": 4,
 "nbformat_minor": 2
}
