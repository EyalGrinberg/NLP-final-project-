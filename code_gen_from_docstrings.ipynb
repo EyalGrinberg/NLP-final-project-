{
 "cells": [
  {
   "cell_type": "markdown",
   "metadata": {},
   "source": [
    "### Libraries"
   ]
  },
  {
   "cell_type": "code",
   "execution_count": 1,
   "metadata": {},
   "outputs": [],
   "source": [
    "import pandas as pd\n",
    "import os\n",
    "from langchain.prompts import ChatPromptTemplate\n",
    "from langchain.chat_models import ChatOpenAI\n",
    "from langchain_core.output_parsers import StrOutputParser\n",
    "from langchain.callbacks import get_openai_callback\n",
    "from tqdm.auto import tqdm\n",
    "from langchain_google_genai import ChatGoogleGenerativeAI"
   ]
  },
  {
   "cell_type": "code",
   "execution_count": 2,
   "metadata": {},
   "outputs": [
    {
     "name": "stdout",
     "output_type": "stream",
     "text": [
      "Note: you may need to restart the kernel to use updated packages.\n"
     ]
    }
   ],
   "source": [
    "%pip install --upgrade --quiet  langchain-google-genai pillow"
   ]
  },
  {
   "cell_type": "markdown",
   "metadata": {},
   "source": [
    "### API Keys"
   ]
  },
  {
   "cell_type": "code",
   "execution_count": 5,
   "metadata": {},
   "outputs": [],
   "source": [
    "os.environ[\"OPENAI_API_KEY\"] = \"hidden\"\n",
    "os.environ[\"GOOGLE_API_KEY\"] = \"hidden\""
   ]
  },
  {
   "cell_type": "code",
   "execution_count": 4,
   "metadata": {},
   "outputs": [],
   "source": [
    "OPENAI_API_KEY = os.environ.get(\"OPENAI_API_KEY\")\n",
    "ANTHROPIC_API_KEY = os.environ.get(\"ANTHROPIC_API_KEY\")\n",
    "GOOGLE_API_KEY = os.environ.get(\"GOOGLE_API_KEY\")"
   ]
  },
  {
   "cell_type": "markdown",
   "metadata": {},
   "source": [
    "### Code generation prompts"
   ]
  },
  {
   "cell_type": "code",
   "execution_count": 32,
   "metadata": {},
   "outputs": [],
   "source": [
    "system_prompt = \"\"\"\n",
    "You are a helpful assistant, assinged with generating code to python functions and classes when given a docstring. \n",
    "You have vast knowledge of python coding and libraries.\n",
    "You know and follow the google docstring conventions.\n",
    "\"\"\"\n",
    "\n",
    "my_prompt = \"\"\"\n",
    "Provide a python code to the following docstring: {docstring}\n",
    "\n",
    "Correct format example:\n",
    "\n",
    "docstring = \n",
    "\n",
    "Iteratively compute the sum of all elements in a list of integers after multiplying each element by its index in the list.\n",
    "    \n",
    "Args:\n",
    "lst (list): a list of integers.\n",
    "\n",
    "Returns:\n",
    "int: the sum of all elements in the list after preforming the multipication of the elements by their indices.\n",
    "\n",
    "solution =\n",
    "    \n",
    "def multiply_and_sum(lst):\n",
    "    res = 0\n",
    "    for i, item in enumerate(lst):\n",
    "        res += item * i \n",
    "    return res\n",
    "        \n",
    "Return the code only, do not include the docstring in your answer. \n",
    "\"\"\""
   ]
  },
  {
   "cell_type": "markdown",
   "metadata": {},
   "source": [
    "### LLM Setup"
   ]
  },
  {
   "cell_type": "code",
   "execution_count": 33,
   "metadata": {},
   "outputs": [],
   "source": [
    "prompt = ChatPromptTemplate.from_messages([\n",
    "    (\"system\", system_prompt),\n",
    "    (\"user\", my_prompt),\n",
    "])"
   ]
  },
  {
   "cell_type": "code",
   "execution_count": 34,
   "metadata": {},
   "outputs": [],
   "source": [
    "def generate_code_from_docstring(docstring, chain_solution):\n",
    "    llm_code = chain_solution.invoke({\n",
    "        \"docstring\": docstring\n",
    "    })\n",
    "    return llm_code"
   ]
  },
  {
   "cell_type": "markdown",
   "metadata": {},
   "source": [
    "### OPEN AI"
   ]
  },
  {
   "cell_type": "code",
   "execution_count": 35,
   "metadata": {},
   "outputs": [],
   "source": [
    "llm_openai = ChatOpenAI(openai_api_key=OPENAI_API_KEY, model=\"gpt-3.5-turbo\")\n",
    "\n",
    "output_parser = StrOutputParser()\n",
    "\n",
    "chain_gpt_turbo = prompt | llm_openai | output_parser"
   ]
  },
  {
   "cell_type": "markdown",
   "metadata": {},
   "source": [
    "First, generate code for one function and class based on gemini docstring"
   ]
  },
  {
   "cell_type": "code",
   "execution_count": 36,
   "metadata": {},
   "outputs": [],
   "source": [
    "data = pd.read_csv(\"data_full_docstrings_generated.csv\")\n",
    "function_2_docstring_gemini = data.loc[2, 'Gemini-1.0-pro']\n",
    "class_4_docstring_gemini = data.loc[43, 'Gemini-1.0-pro']"
   ]
  },
  {
   "cell_type": "code",
   "execution_count": null,
   "metadata": {},
   "outputs": [],
   "source": [
    "generated_code_function_2_gpt_turbo = generate_code_from_docstring(function_2_docstring_gemini, chain_gpt_turbo)\n",
    "generated_code_class_4_gpt_turbo = generate_code_from_docstring(class_4_docstring_gemini, chain_gpt_turbo)\n",
    "\n",
    "print(f\"Function 2 generated code: \\n{generated_code_function_2_gpt_turbo}\")\n",
    "print(f\"\\nClass 4 generated code: \\n{generated_code_class_4_gpt_turbo}\")"
   ]
  },
  {
   "cell_type": "markdown",
   "metadata": {},
   "source": [
    "### GOOGLE"
   ]
  },
  {
   "cell_type": "code",
   "execution_count": 37,
   "metadata": {},
   "outputs": [],
   "source": [
    "prompt_for_gemini = ChatPromptTemplate.from_template(\n",
    "    system_prompt + my_prompt\n",
    ")\n",
    "\n",
    "llm_google = ChatGoogleGenerativeAI(google_api_key=GOOGLE_API_KEY, model=\"gemini-1.0-pro\")\n",
    "\n",
    "chain_gemini = prompt_for_gemini | llm_google | output_parser"
   ]
  },
  {
   "cell_type": "code",
   "execution_count": 38,
   "metadata": {},
   "outputs": [
    {
     "name": "stdout",
     "output_type": "stream",
     "text": [
      "\n",
      "Class 4 generated code: \n",
      "class Point_2D:\n",
      "    def __init__(self, x, y):\n",
      "        self.x = x\n",
      "        self.y = y\n",
      "        self.r = (x**2 + y**2)**0.5\n",
      "        self.theta = np.arctan2(y, x)\n",
      "\n",
      "    def __repr__(self):\n",
      "        return f\"Point_2D(x={self.x}, y={self.y})\"\n",
      "\n",
      "    def __eq__(self, other):\n",
      "        return self.x == other.x and self.y == other.y\n",
      "\n",
      "    def __add__(self, other):\n",
      "        return Point_2D(self.x + other.x, self.y + other.y)\n",
      "\n",
      "    def __sub__(self, other):\n",
      "        return Point_2D(self.x - other.x, self.y - other.y)\n",
      "\n",
      "    def distance(self, other):\n",
      "        return ((self.x - other.x)**2 + (self.y - other.y)**2)**0.5\n",
      "\n",
      "    def angle_wrt_origin(self, other):\n",
      "        return np.arccos((self.x * other.x + self.y * other.y) / (self.r * other.r))\n"
     ]
    }
   ],
   "source": [
    "generated_code_function_2_gemini = generate_code_from_docstring(function_2_docstring_gemini, chain_gemini)\n",
    "generated_code_class_4_gemini = generate_code_from_docstring(class_4_docstring_gemini, chain_gemini)\n",
    "\n",
    "print(f\"Function 2 generated code: \\n{generated_code_function_2_gemini}\")\n",
    "print(f\"\\nClass 4 generated code: \\n{generated_code_class_4_gemini}\")"
   ]
  },
  {
   "cell_type": "markdown",
   "metadata": {},
   "source": [
    "Generate code using GPT 4"
   ]
  },
  {
   "cell_type": "code",
   "execution_count": null,
   "metadata": {},
   "outputs": [],
   "source": [
    "llm_openai_gpt4 = ChatOpenAI(openai_api_key=OPENAI_API_KEY, model=\"gpt-4-1106-Preview\")\n",
    "\n",
    "output_parser = StrOutputParser()\n",
    "\n",
    "chain_gpt4 = prompt | llm_openai_gpt4 | output_parser"
   ]
  },
  {
   "cell_type": "code",
   "execution_count": null,
   "metadata": {},
   "outputs": [],
   "source": [
    "generated_code_function_2_gpt4 = generate_code_from_docstring(function_2_docstring_gemini, chain_gpt4)\n",
    "generated_code_class_4_gpt4 = generate_code_from_docstring(class_4_docstring_gemini, chain_gpt4)\n",
    "\n",
    "print(f\"Function 2 generated code: \\n{generated_code_function_2_gpt4}\")\n",
    "print(f\"\\nClass 4 generated code: \\n{generated_code_class_4_gpt4}\")"
   ]
  },
  {
   "cell_type": "markdown",
   "metadata": {},
   "source": [
    "Generate code for all models and docstrings"
   ]
  },
  {
   "cell_type": "code",
   "execution_count": null,
   "metadata": {},
   "outputs": [],
   "source": [
    "generated_docstrings_data = pd.read_csv(\"data_full_docstrings_generated.csv\")\n",
    "generated_docstrings_data.rename({'T5 BaseLine docstring generation': 'T5'}, axis=1, inplace=True)  # column name is too long\n",
    "\n",
    "models = ['T5', 'Gemini-1.0-pro', 'GPT-3.5 Turbo', 'Claude-instant-1']\n",
    "\n",
    "tqdm.pandas()\n",
    "\n",
    "for model_name in models:\n",
    "    new_code_col = f'generated code for {model_name} docstring'\n",
    "    generated_docstrings_data[new_code_col] = None\n",
    "    missing_values_mask = generated_docstrings_data[new_code_col].isna()\n",
    "    generated_docstrings_data.loc[missing_values_mask, [new_code_col]] = (\n",
    "        generated_docstrings_data.loc[missing_values_mask, model_name].progress_apply(\n",
    "            lambda x: generate_code_from_docstring(x, chain_gpt4)\n",
    "        )\n",
    "    )\n",
    "    # Debugging: Print the generated docstrings\n",
    "    print(generated_docstrings_data.loc[missing_values_mask, [new_code_col]])\n",
    "\n",
    "generated_docstrings_data.to_csv(\"code_gen_based_on_docstrings_GPT4.csv\", index=False)"
   ]
  },
  {
   "cell_type": "markdown",
   "metadata": {},
   "source": [
    "### gemini 1.5 flash - free"
   ]
  },
  {
   "cell_type": "code",
   "execution_count": 39,
   "metadata": {},
   "outputs": [],
   "source": [
    "llm_google_flash = ChatGoogleGenerativeAI(google_api_key=GOOGLE_API_KEY, model=\"gemini-1.5-flash\")\n",
    "\n",
    "chain_gemini_flash = prompt_for_gemini | llm_google_flash | output_parser"
   ]
  },
  {
   "cell_type": "code",
   "execution_count": 40,
   "metadata": {},
   "outputs": [
    {
     "name": "stdout",
     "output_type": "stream",
     "text": [
      "Function 2 generated code: \n",
      "```python\n",
      "def sum_nested_list(lst):\n",
      "    total = 0\n",
      "    for item in lst:\n",
      "        if isinstance(item, (int, float)):\n",
      "            total += abs(item)\n",
      "        elif isinstance(item, str):\n",
      "            total += abs(float(item))\n",
      "        elif isinstance(item, list):\n",
      "            total += sum_nested_list(item)\n",
      "    return total\n",
      "```\n",
      "\n",
      "Class 4 generated code: \n",
      "```python\n",
      "import math\n",
      "\n",
      "class Point_2D:\n",
      "    def __init__(self, x, y):\n",
      "        self.x = x\n",
      "        self.y = y\n",
      "        self.r = math.sqrt(x**2 + y**2)\n",
      "        self.theta = math.atan2(y, x)\n",
      "\n",
      "    def __repr__(self):\n",
      "        return f\"Point_2D(x={self.x:.2f}, y={self.y:.2f})\"\n",
      "\n",
      "    def __eq__(self, other):\n",
      "        if isinstance(other, Point_2D):\n",
      "            return self.x == other.x and self.y == other.y\n",
      "        return False\n",
      "\n",
      "    def __add__(self, other):\n",
      "        if isinstance(other, Point_2D):\n",
      "            return Point_2D(self.x + other.x, self.y + other.y)\n",
      "        return NotImplemented\n",
      "\n",
      "    def __sub__(self, other):\n",
      "        if isinstance(other, Point_2D):\n",
      "            return Point_2D(self.x - other.x, self.y - other.y)\n",
      "        return NotImplemented\n",
      "\n",
      "    def distance(self, other):\n",
      "        if isinstance(other, Point_2D):\n",
      "            return math.sqrt((self.x - other.x)**2 + (self.y - other.y)**2)\n",
      "        return NotImplemented\n",
      "\n",
      "    def angle_wrt_origin(self, other):\n",
      "        if isinstance(other, Point_2D):\n",
      "            return math.degrees(math.atan2(other.y, other.x) - self.theta)\n",
      "        return NotImplemented\n",
      "```\n"
     ]
    }
   ],
   "source": [
    "generated_code_function_2_gemini = generate_code_from_docstring(function_2_docstring_gemini, chain_gemini_flash)\n",
    "generated_code_class_4_gemini = generate_code_from_docstring(class_4_docstring_gemini, chain_gemini_flash)\n",
    "\n",
    "print(f\"Function 2 generated code: \\n{generated_code_function_2_gemini}\")\n",
    "print(f\"\\nClass 4 generated code: \\n{generated_code_class_4_gemini}\")"
   ]
  },
  {
   "cell_type": "code",
   "execution_count": 41,
   "metadata": {},
   "outputs": [
    {
     "data": {
      "application/vnd.jupyter.widget-view+json": {
       "model_id": "a86a15b65aa54c6f968a8bb49991cabe",
       "version_major": 2,
       "version_minor": 0
      },
      "text/plain": [
       "  0%|          | 0/50 [00:00<?, ?it/s]"
      ]
     },
     "metadata": {},
     "output_type": "display_data"
    },
    {
     "name": "stderr",
     "output_type": "stream",
     "text": [
      "Retrying langchain_google_genai.chat_models._chat_with_retry.<locals>._chat_with_retry in 2.0 seconds as it raised ResourceExhausted: 429 Resource has been exhausted (e.g. check quota)..\n",
      "Retrying langchain_google_genai.chat_models._chat_with_retry.<locals>._chat_with_retry in 4.0 seconds as it raised ResourceExhausted: 429 Resource has been exhausted (e.g. check quota)..\n",
      "Retrying langchain_google_genai.chat_models._chat_with_retry.<locals>._chat_with_retry in 8.0 seconds as it raised ResourceExhausted: 429 Resource has been exhausted (e.g. check quota)..\n",
      "Retrying langchain_google_genai.chat_models._chat_with_retry.<locals>._chat_with_retry in 16.0 seconds as it raised ResourceExhausted: 429 Resource has been exhausted (e.g. check quota)..\n",
      "Retrying langchain_google_genai.chat_models._chat_with_retry.<locals>._chat_with_retry in 2.0 seconds as it raised ResourceExhausted: 429 Resource has been exhausted (e.g. check quota)..\n",
      "Retrying langchain_google_genai.chat_models._chat_with_retry.<locals>._chat_with_retry in 2.0 seconds as it raised ResourceExhausted: 429 Resource has been exhausted (e.g. check quota)..\n",
      "Retrying langchain_google_genai.chat_models._chat_with_retry.<locals>._chat_with_retry in 4.0 seconds as it raised ResourceExhausted: 429 Resource has been exhausted (e.g. check quota)..\n",
      "Retrying langchain_google_genai.chat_models._chat_with_retry.<locals>._chat_with_retry in 8.0 seconds as it raised ResourceExhausted: 429 Resource has been exhausted (e.g. check quota)..\n",
      "Retrying langchain_google_genai.chat_models._chat_with_retry.<locals>._chat_with_retry in 16.0 seconds as it raised ResourceExhausted: 429 Resource has been exhausted (e.g. check quota)..\n",
      "Retrying langchain_google_genai.chat_models._chat_with_retry.<locals>._chat_with_retry in 2.0 seconds as it raised ResourceExhausted: 429 Resource has been exhausted (e.g. check quota)..\n",
      "Retrying langchain_google_genai.chat_models._chat_with_retry.<locals>._chat_with_retry in 4.0 seconds as it raised ResourceExhausted: 429 Resource has been exhausted (e.g. check quota)..\n",
      "Retrying langchain_google_genai.chat_models._chat_with_retry.<locals>._chat_with_retry in 2.0 seconds as it raised ResourceExhausted: 429 Resource has been exhausted (e.g. check quota)..\n",
      "Retrying langchain_google_genai.chat_models._chat_with_retry.<locals>._chat_with_retry in 4.0 seconds as it raised ResourceExhausted: 429 Resource has been exhausted (e.g. check quota)..\n",
      "Retrying langchain_google_genai.chat_models._chat_with_retry.<locals>._chat_with_retry in 8.0 seconds as it raised ResourceExhausted: 429 Resource has been exhausted (e.g. check quota)..\n",
      "Retrying langchain_google_genai.chat_models._chat_with_retry.<locals>._chat_with_retry in 16.0 seconds as it raised ResourceExhausted: 429 Resource has been exhausted (e.g. check quota)..\n"
     ]
    },
    {
     "name": "stdout",
     "output_type": "stream",
     "text": [
      "                      generated code for T5 docstring\n",
      "0   ```python\\ndef sum_delimited(lst, delimiter):\\...\n",
      "1   ```python\\ndef find_the_number_of_changes(s1, ...\n",
      "2   ```python\\ndef sum_nested_structures(structure...\n",
      "3   ```python\\ndef count_words(text):\\n  \"\"\"Gets t...\n",
      "4   ```python\\ndef count_k_columns(matrix, k):\\n  ...\n",
      "5   ```python\\ndef get_index_in_tree(tree, target)...\n",
      "6   ```python\\ndef get_half_n_sum_set(n_sum_set, n...\n",
      "7   ```python\\ndef partition_sets_to_subsets(parti...\n",
      "8   ```python\\ndef is_dag(graph):\\n    \"\"\"Determin...\n",
      "9   ```python\\nimport random\\nimport datetime\\n\\nd...\n",
      "10  ```python\\ndef diff_matrices(matrices):\\n  \"\"\"...\n",
      "11  ```python\\ndef longest_subsequence(s1, s2):\\n ...\n",
      "12  ```python\\ndef count_mobile_characters(table):...\n",
      "13  ```python\\ndef find_prime_factors(num):\\n    \"...\n",
      "14  ```python\\ndef find_intersection(graph1, graph...\n",
      "15  ```python\\ndef calculate_subset_sum(target, su...\n",
      "16  ```python\\ndef sum_mult_str(evals):\\n  sum_mul...\n",
      "17  ```python\\ndef is_valid_string(str_rep):\\n  if...\n",
      "18  ```python\\ndef sort_and_remove_unique(lst):\\n ...\n",
      "19  ```python\\ndef apply_prefix_suffix(lst, prefix...\n",
      "20  ```python\\ndef rotate_matrix_clockwise(matrix,...\n",
      "21  ```python\\ndef cyclic_shift(moves):\\n    \"\"\"Re...\n",
      "22  ```python\\ndef encode_list(lst):\\n  \"\"\"Encodes...\n",
      "23  ```python\\ndef sum_columns(lst):\\n  sums = [0]...\n",
      "24  ```python\\ndef convert_base(num, base):\\n  \"\"\"...\n",
      "25  ```python\\ndef find_max_balls(n, k):\\n    \"\"\"F...\n",
      "26  ```python\\ndef find_best_pointer(lst):\\n    be...\n",
      "27  ```python\\ndef smallest_length(num):\\n  return...\n",
      "28  ```python\\ndef find_first_digit(num):\\n  num_s...\n",
      "29  ```python\\ndef find_frequency(num_str, strub_s...\n",
      "30  ```python\\ndef convolve1d(kernel, signal):\\n  ...\n",
      "31  ```python\\ndef mask_n_minus_1(n):\\n  return n ...\n",
      "32  ```python\\nimport numpy as np\\n\\ndef calculate...\n",
      "33  ```python\\nfrom PIL import Image\\n\\ndef reduce...\n",
      "34  ```python\\nimport numpy as np\\nfrom skimage.se...\n",
      "35  ```python\\ndef extract_to_dataframe(df, column...\n",
      "36  ```python\\ndef extract_genres(search_gens_key)...\n",
      "37  ```python\\ndef total_ordered_hours(hours):\\n  ...\n",
      "38  ```python\\ndef count_isa_digits(digits):\\n  \"\"...\n",
      "39  ```python\\ndef populate_border_count(hybridiza...\n",
      "40  ```python\\nclass MyClass:\\n    def __init__(se...\n",
      "41  ```python\\ndef __init__(self, first_name):\\n  ...\n",
      "42  ```python\\ndef piston_mode_bin_number(bin_edge...\n",
      "43  ```python\\ndef origin_point(line):\\n  a, b, c ...\n",
      "44  ```python\\nimport random\\nfrom kazoo.client im...\n",
      "45  ```python\\ndef average_non_outer_data(self):\\n...\n",
      "46  ```python\\ndef name_menu(menu_items):\\n  \"\"\"Th...\n",
      "47  ```python\\nclass MyClass:\\n    def my_method(s...\n",
      "48     ```python\\ndef non_main_task():\\n    pass\\n```\n",
      "49  ```python\\ndef name_from_recipe(recipe):\\n  \"\"...\n"
     ]
    },
    {
     "data": {
      "application/vnd.jupyter.widget-view+json": {
       "model_id": "0bacb4efc30144f0a8d22f488ea52b13",
       "version_major": 2,
       "version_minor": 0
      },
      "text/plain": [
       "  0%|          | 0/50 [00:00<?, ?it/s]"
      ]
     },
     "metadata": {},
     "output_type": "display_data"
    },
    {
     "name": "stderr",
     "output_type": "stream",
     "text": [
      "Retrying langchain_google_genai.chat_models._chat_with_retry.<locals>._chat_with_retry in 2.0 seconds as it raised ResourceExhausted: 429 Resource has been exhausted (e.g. check quota)..\n",
      "Retrying langchain_google_genai.chat_models._chat_with_retry.<locals>._chat_with_retry in 4.0 seconds as it raised ResourceExhausted: 429 Resource has been exhausted (e.g. check quota)..\n",
      "Retrying langchain_google_genai.chat_models._chat_with_retry.<locals>._chat_with_retry in 8.0 seconds as it raised ResourceExhausted: 429 Resource has been exhausted (e.g. check quota)..\n",
      "Retrying langchain_google_genai.chat_models._chat_with_retry.<locals>._chat_with_retry in 16.0 seconds as it raised ResourceExhausted: 429 Resource has been exhausted (e.g. check quota)..\n",
      "Retrying langchain_google_genai.chat_models._chat_with_retry.<locals>._chat_with_retry in 32.0 seconds as it raised ResourceExhausted: 429 Resource has been exhausted (e.g. check quota)..\n",
      "Retrying langchain_google_genai.chat_models._chat_with_retry.<locals>._chat_with_retry in 2.0 seconds as it raised ResourceExhausted: 429 Resource has been exhausted (e.g. check quota)..\n",
      "Retrying langchain_google_genai.chat_models._chat_with_retry.<locals>._chat_with_retry in 4.0 seconds as it raised ResourceExhausted: 429 Resource has been exhausted (e.g. check quota)..\n",
      "Retrying langchain_google_genai.chat_models._chat_with_retry.<locals>._chat_with_retry in 2.0 seconds as it raised ResourceExhausted: 429 Resource has been exhausted (e.g. check quota)..\n",
      "Retrying langchain_google_genai.chat_models._chat_with_retry.<locals>._chat_with_retry in 4.0 seconds as it raised ResourceExhausted: 429 Resource has been exhausted (e.g. check quota)..\n",
      "Retrying langchain_google_genai.chat_models._chat_with_retry.<locals>._chat_with_retry in 8.0 seconds as it raised ResourceExhausted: 429 Resource has been exhausted (e.g. check quota)..\n",
      "Retrying langchain_google_genai.chat_models._chat_with_retry.<locals>._chat_with_retry in 16.0 seconds as it raised ResourceExhausted: 429 Resource has been exhausted (e.g. check quota)..\n"
     ]
    },
    {
     "name": "stdout",
     "output_type": "stream",
     "text": [
      "          generated code for Gemini-1.0-pro docstring\n",
      "0   ```python\\ndef sum_even_indexed(lst):\\n    res...\n",
      "1   ```python\\ndef count_change(n, lst):\\n    dp =...\n",
      "2   ```python\\ndef sum_nested_list(lst):\\n    tota...\n",
      "3   ```python\\ndef count_decompositions(target, wo...\n",
      "4   ```python\\ndef binomial_coefficient(n, k):\\n  ...\n",
      "5   ```python\\ndef dfs_level_order(tree, index=0):...\n",
      "6   ```python\\ndef sum_of_products(lst):\\n    res ...\n",
      "7   ```python\\ndef partition_count(n, k):\\n    if ...\n",
      "8   ```python\\ndef is_dag(graph):\\n    visited = s...\n",
      "9   ```python\\ndef fibonacci(num, x=0):\\n    x += ...\n",
      "10  ```python\\ndef sparse_matrix_difference(lst):\\...\n",
      "11  ```python\\ndef longest_increasing_decreasing_s...\n",
      "12  ```python\\ndef median(nums):\\n  nums = sorted(...\n",
      "13  ```python\\ndef prime_factors(n):\\n    factors ...\n",
      "14  ```python\\ndef intersection_graph(g1, g2):\\n  ...\n",
      "15  ```python\\ndef find_subsets_sum_to_target(lst,...\n",
      "16  ```python\\ndef calculate_expression(expression...\n",
      "17  ```python\\ndef check_substring_repetition(s, k...\n",
      "18                                                   \n",
      "19  ```python\\ndef find_matching_pairs(lst, k):\\n ...\n",
      "20  ```python\\ndef rotate_matrix(mat):\\n    n = le...\n",
      "21  ```python\\ndef cyclic_shift(lst, direction, st...\n",
      "22  ```python\\ndef encode(s):\\n    encoded = \"\"\\n ...\n",
      "23  ```python\\ndef prefix_sums(lst):\\n    prefix_s...\n",
      "24  ```python\\ndef int_to_base(num, base):\\n    if...\n",
      "25  ```python\\ndef max_divisible_sequence_length(n...\n",
      "26  ```python\\ndef find_duplicate(lst):\\n    if no...\n",
      "27  ```python\\ndef lcm(a, b):\\n    return abs(a * ...\n",
      "28  ```python\\ndef find_number():\\n    for num in ...\n",
      "29  ```python\\ndef find_substring_divisible_by_22(...\n",
      "30  ```python\\ndef conv1d(signal, kernel):\\n  \"\"\"P...\n",
      "31  ```python\\ndef create_mask(im, n, idx):\\n  \"\"\"...\n",
      "32  ```python\\nimport numpy as np\\ndef entropy(mat...\n",
      "33  ```python\\ndef squeeze_image_vertically(im, fa...\n",
      "34  ```python\\nimport numpy as np\\n\\ndef median_fi...\n",
      "35  ```python\\ndef multiply_and_sum(lst):\\n    res...\n",
      "36  ```python\\ndef multiply_and_sum(lst):\\n    res...\n",
      "37  ```python\\ndef top_departments_by_hours(employ...\n",
      "38  ```python\\ndef multiply_and_sum(lst):\\n    res...\n",
      "39  ```python\\ndef get_bordering_countries(country...\n",
      "40  ```python\\nclass Triangle:\\n    def __init__(s...\n",
      "41  ```python\\nclass Worker:\\n    def __init__(sel...\n",
      "42  ```python\\nclass Binaric_arithmatic:\\n    def ...\n",
      "43  ```python\\nimport math\\n\\nclass Point_2D:\\n   ...\n",
      "44  ```python\\nclass Roulette:\\n    def __init__(s...\n",
      "45  ```python\\nclass Investment:\\n    \"\"\"A class u...\n",
      "46  ```python\\nclass Restaurant:\\n    def __init__...\n",
      "47  ```python\\nclass Polynomial:\\n    def __init__...\n",
      "48  ```python\\nclass TodoList:\\n    def __init__(s...\n",
      "49  ```python\\nclass Recipe:\\n    def __init__(sel...\n"
     ]
    },
    {
     "data": {
      "application/vnd.jupyter.widget-view+json": {
       "model_id": "396cc3fb92634787abe2e333b4bc0134",
       "version_major": 2,
       "version_minor": 0
      },
      "text/plain": [
       "  0%|          | 0/50 [00:00<?, ?it/s]"
      ]
     },
     "metadata": {},
     "output_type": "display_data"
    },
    {
     "name": "stderr",
     "output_type": "stream",
     "text": [
      "Retrying langchain_google_genai.chat_models._chat_with_retry.<locals>._chat_with_retry in 2.0 seconds as it raised ResourceExhausted: 429 Resource has been exhausted (e.g. check quota)..\n",
      "Retrying langchain_google_genai.chat_models._chat_with_retry.<locals>._chat_with_retry in 4.0 seconds as it raised ResourceExhausted: 429 Resource has been exhausted (e.g. check quota)..\n",
      "Retrying langchain_google_genai.chat_models._chat_with_retry.<locals>._chat_with_retry in 8.0 seconds as it raised ResourceExhausted: 429 Resource has been exhausted (e.g. check quota)..\n",
      "Retrying langchain_google_genai.chat_models._chat_with_retry.<locals>._chat_with_retry in 16.0 seconds as it raised ResourceExhausted: 429 Resource has been exhausted (e.g. check quota)..\n",
      "Retrying langchain_google_genai.chat_models._chat_with_retry.<locals>._chat_with_retry in 2.0 seconds as it raised ResourceExhausted: 429 Resource has been exhausted (e.g. check quota)..\n",
      "Retrying langchain_google_genai.chat_models._chat_with_retry.<locals>._chat_with_retry in 4.0 seconds as it raised ResourceExhausted: 429 Resource has been exhausted (e.g. check quota)..\n",
      "Retrying langchain_google_genai.chat_models._chat_with_retry.<locals>._chat_with_retry in 8.0 seconds as it raised ResourceExhausted: 429 Resource has been exhausted (e.g. check quota)..\n",
      "Retrying langchain_google_genai.chat_models._chat_with_retry.<locals>._chat_with_retry in 16.0 seconds as it raised ResourceExhausted: 429 Resource has been exhausted (e.g. check quota)..\n",
      "Retrying langchain_google_genai.chat_models._chat_with_retry.<locals>._chat_with_retry in 2.0 seconds as it raised ResourceExhausted: 429 Resource has been exhausted (e.g. check quota)..\n",
      "Retrying langchain_google_genai.chat_models._chat_with_retry.<locals>._chat_with_retry in 2.0 seconds as it raised ResourceExhausted: 429 Resource has been exhausted (e.g. check quota)..\n",
      "Retrying langchain_google_genai.chat_models._chat_with_retry.<locals>._chat_with_retry in 4.0 seconds as it raised ResourceExhausted: 429 Resource has been exhausted (e.g. check quota)..\n",
      "Retrying langchain_google_genai.chat_models._chat_with_retry.<locals>._chat_with_retry in 8.0 seconds as it raised ResourceExhausted: 429 Resource has been exhausted (e.g. check quota)..\n"
     ]
    },
    {
     "name": "stdout",
     "output_type": "stream",
     "text": [
      "           generated code for GPT-3.5 Turbo docstring\n",
      "0   ```python\\ndef sum_even_indexed_elements(lst):...\n",
      "1   ```python\\ndef count_representations(n, lst):\\...\n",
      "2   ```python\\ndef sum_nested_list(lst):\\n    tota...\n",
      "3   ```python\\ndef count_decompositions(target, wo...\n",
      "4   ```python\\ndef combinations(n, k):\\n  \"\"\"Calcu...\n",
      "5   ```python\\ndef dfs_level_order(tree, index=0):...\n",
      "6   ```python\\ndef find_subset_with_half_sum(lst):...\n",
      "7   ```python\\ndef stirling_number_second_kind(n, ...\n",
      "8   ```python\\ndef is_dag(graph):\\n    def dfs(nod...\n",
      "9   ```python\\ndef recursive_calc(num, x=0):\\n    ...\n",
      "10  ```python\\ndef sparse_matrix_difference(lst):\\...\n",
      "11  ```python\\ndef longest_increasing_or_decreasin...\n",
      "12  ```python\\ndef median(nums):\\n    nums.sort()\\...\n",
      "13  ```python\\ndef find_prime_factors(n):\\n    fac...\n",
      "14  ```python\\ndef graph_intersection(g1, g2):\\n  ...\n",
      "15  ```python\\ndef find_subsets_with_sum(lst, targ...\n",
      "16  ```python\\ndef evaluate_expression(expression)...\n",
      "17  ```python\\ndef check_repeated_substring(s, k):...\n",
      "18  ```python\\ndef merge_sorted_lists(lst1, lst2):...\n",
      "19  ```python\\ndef find_matching_prefix_suffix(lst...\n",
      "20  ```python\\ndef rotate_matrix(mat):\\n    n = le...\n",
      "21  ```python\\ndef cyclic_shift(lst, direction, st...\n",
      "22  ```python\\ndef encode_string(s):\\n    encoded ...\n",
      "23  ```python\\ndef iterative_sum(lst):\\n    for i ...\n",
      "24  ```python\\ndef convert_to_base(num, base):\\n  ...\n",
      "25  ```python\\ndef max_consecutive_divisible(n, k)...\n",
      "26  ```python\\ndef find_duplicate(lst):\\n    seen ...\n",
      "27  ```python\\ndef lcm(a, b):\\n    return abs(a * ...\n",
      "28  ```python\\ndef find_number():\\n    for num in ...\n",
      "29  ```python\\ndef find_number(num):\\n    num_str ...\n",
      "30  ```python\\nimport numpy as np\\n\\ndef convolve_...\n",
      "31  ```python\\ndef mask_range(im, n, idx):\\n  \"\"\"M...\n",
      "32  ```python\\nimport numpy as np\\n\\ndef calculate...\n",
      "33  ```python\\ndef vertical_squeeze(im, factor):\\n...\n",
      "34  ```python\\ndef denoise_median(im):\\n    rows, ...\n",
      "35  ```python\\ndef calculate_monthly_sales(data):\\...\n",
      "36  ```python\\ndef recommend_movies(movies, movies...\n",
      "37  ```python\\ndef get_top_5_departments_by_hours(...\n",
      "38  ```python\\ndef merge_and_calculate_population(...\n",
      "39  ```python\\ndef get_bordering_countries(country...\n",
      "40  ```python\\nclass Triangle:\\n    \"\"\"A class rep...\n",
      "41  ```python\\nclass Worker:\\n    def __init__(sel...\n",
      "42  ```python\\nclass Binaric_arithmatic:\\n    def ...\n",
      "43  ```python\\nclass Point_2D:\\n    def __init__(s...\n",
      "44  ```python\\nimport random\\n\\nclass Roulette:\\n ...\n",
      "45  ```python\\nclass Investment:\\n    \"\"\"A class r...\n",
      "46  ```python\\nclass Restaurant:\\n    \"\"\"A class r...\n",
      "47  ```python\\nclass Polynomial:\\n    def __init__...\n",
      "48  ```python\\nclass TodoList:\\n    def __init__(s...\n",
      "49  ```python\\nclass Recipe:\\n    def __init__(sel...\n"
     ]
    },
    {
     "data": {
      "application/vnd.jupyter.widget-view+json": {
       "model_id": "fb31b6196bc14dffaa2652822238b28e",
       "version_major": 2,
       "version_minor": 0
      },
      "text/plain": [
       "  0%|          | 0/50 [00:00<?, ?it/s]"
      ]
     },
     "metadata": {},
     "output_type": "display_data"
    },
    {
     "name": "stderr",
     "output_type": "stream",
     "text": [
      "Retrying langchain_google_genai.chat_models._chat_with_retry.<locals>._chat_with_retry in 2.0 seconds as it raised ResourceExhausted: 429 Resource has been exhausted (e.g. check quota)..\n",
      "Retrying langchain_google_genai.chat_models._chat_with_retry.<locals>._chat_with_retry in 4.0 seconds as it raised ResourceExhausted: 429 Resource has been exhausted (e.g. check quota)..\n",
      "Retrying langchain_google_genai.chat_models._chat_with_retry.<locals>._chat_with_retry in 8.0 seconds as it raised ResourceExhausted: 429 Resource has been exhausted (e.g. check quota)..\n",
      "Retrying langchain_google_genai.chat_models._chat_with_retry.<locals>._chat_with_retry in 16.0 seconds as it raised ResourceExhausted: 429 Resource has been exhausted (e.g. check quota)..\n",
      "Retrying langchain_google_genai.chat_models._chat_with_retry.<locals>._chat_with_retry in 2.0 seconds as it raised ResourceExhausted: 429 Resource has been exhausted (e.g. check quota)..\n",
      "Retrying langchain_google_genai.chat_models._chat_with_retry.<locals>._chat_with_retry in 2.0 seconds as it raised ResourceExhausted: 429 Resource has been exhausted (e.g. check quota)..\n",
      "Retrying langchain_google_genai.chat_models._chat_with_retry.<locals>._chat_with_retry in 4.0 seconds as it raised ResourceExhausted: 429 Resource has been exhausted (e.g. check quota)..\n",
      "Retrying langchain_google_genai.chat_models._chat_with_retry.<locals>._chat_with_retry in 8.0 seconds as it raised ResourceExhausted: 429 Resource has been exhausted (e.g. check quota)..\n",
      "Retrying langchain_google_genai.chat_models._chat_with_retry.<locals>._chat_with_retry in 16.0 seconds as it raised ResourceExhausted: 429 Resource has been exhausted (e.g. check quota)..\n",
      "Retrying langchain_google_genai.chat_models._chat_with_retry.<locals>._chat_with_retry in 2.0 seconds as it raised ResourceExhausted: 429 Resource has been exhausted (e.g. check quota)..\n",
      "Retrying langchain_google_genai.chat_models._chat_with_retry.<locals>._chat_with_retry in 4.0 seconds as it raised ResourceExhausted: 429 Resource has been exhausted (e.g. check quota)..\n",
      "Retrying langchain_google_genai.chat_models._chat_with_retry.<locals>._chat_with_retry in 8.0 seconds as it raised ResourceExhausted: 429 Resource has been exhausted (e.g. check quota)..\n",
      "Retrying langchain_google_genai.chat_models._chat_with_retry.<locals>._chat_with_retry in 16.0 seconds as it raised ResourceExhausted: 429 Resource has been exhausted (e.g. check quota)..\n"
     ]
    },
    {
     "name": "stdout",
     "output_type": "stream",
     "text": [
      "        generated code for Claude-instant-1 docstring\n",
      "0   ```python\\ndef sum_even(lst):\\n    total = 0\\n...\n",
      "1   ```python\\ndef count_change(n, lst):\\n    if n...\n",
      "2   ```python\\ndef nested_sum(lst):\\n    total = 0...\n",
      "3   ```python\\ndef count_decompositions(target, wo...\n",
      "4   ```python\\ndef binomial_coefficient(n, k):\\n  ...\n",
      "5   ```python\\ndef dfs_level_order(tree, index=0):...\n",
      "6   ```python\\ndef find_half_sum_subset(lst):\\n   ...\n",
      "7   ```python\\ndef count_partitions(n, k):\\n    me...\n",
      "8   ```python\\ndef is_dag(graph):\\n    def dfs(nod...\n",
      "9   ```python\\ndef recursive_function(num, x=0):\\n...\n",
      "10  ```python\\ndef sparse_matrix_difference(lst):\\...\n",
      "11  ```python\\ndef longest_subsequence(lst):\\n    ...\n",
      "12  ```python\\ndef median(nums):\\n    nums = list(...\n",
      "13  ```python\\ndef find_prime_factors(n):\\n    fac...\n",
      "14  ```python\\ndef intersection_graph(g1, g2):\\n  ...\n",
      "15  ```python\\ndef generate_subsets(lst, target):\\...\n",
      "16  ```python\\ndef evaluate_expression(expression)...\n",
      "17  ```python\\ndef check_substring_repeat(s, k):\\n...\n",
      "18  ```python\\ndef merge_sorted_lists(lst):\\n    r...\n",
      "19  ```python\\ndef find_prefix_suffix_matches(lst,...\n",
      "20  ```python\\ndef rotate_matrix_clockwise(mat):\\n...\n",
      "21  ```python\\ndef cyclic_shift(lst, direction, st...\n",
      "22  ```python\\ndef encode_string(s):\\n    encoded ...\n",
      "23  ```python\\ndef sum_contiguous_elements(lst):\\n...\n",
      "24  ```python\\ndef convert_base(num, base):\\n    i...\n",
      "25  ```python\\ndef max_consecutive_divisible_by_k(...\n",
      "26  ```python\\ndef find_cycle_start(lst):\\n    slo...\n",
      "27  ```python\\ndef lcm(a, b):\\n    def gcd(a, b):\\...\n",
      "28  ```python\\ndef find_number():\\n    for num in ...\n",
      "29  ```python\\ndef rearrange_digits(number):\\n    ...\n",
      "30  ```python\\nimport numpy as np\\n\\ndef convolve1...\n",
      "31  ```python\\ndef mask_region(im, n, idx):\\n  min...\n",
      "32  ```python\\nimport numpy as np\\n\\ndef calculate...\n",
      "33  ```python\\ndef squeeze_vertical(im, factor):\\n...\n",
      "34  ```python\\ndef denoise_image(im, dx, dy):\\n   ...\n",
      "35  ```python\\ndef calculate_monthly_sales_metrics...\n",
      "36  ```python\\ndef recommend_movies(movies, movies...\n",
      "37  ```python\\ndef get_top_departments_by_hours(em...\n",
      "38  ```python\\ndef largest_population_with_borders...\n",
      "39  ```python\\ndef find_bordering_countries(countr...\n",
      "40  ```python\\nimport math\\n\\nclass Triangle:\\n   ...\n",
      "41  ```python\\nclass Worker:\\n    def __init__(sel...\n",
      "42  ```python\\nclass BinaryArithmetic:\\n    def __...\n",
      "43  ```python\\nimport math\\n\\nclass Point_2D:\\n   ...\n",
      "44  ```python\\nimport random\\n\\nclass Roulette:\\n ...\n",
      "45  ```python\\nclass InvestmentAccount:\\n    def _...\n",
      "46  ```python\\nclass Restaurant:\\n    def __init__...\n",
      "47  ```python\\nclass Polynomial:\\n    def __init__...\n",
      "48  ```python\\nclass TodoList:\\n    def __init__(s...\n",
      "49  ```python\\nclass Recipe:\\n    def __init__(sel...\n"
     ]
    }
   ],
   "source": [
    "generated_docstrings_data = pd.read_csv(\"data_full_docstrings_generated.csv\")\n",
    "generated_docstrings_data.rename({'T5 BaseLine docstring generation': 'T5'}, axis=1, inplace=True)  # column name is too long\n",
    "\n",
    "models = ['T5', 'Gemini-1.0-pro', 'GPT-3.5 Turbo', 'Claude-instant-1']\n",
    "\n",
    "tqdm.pandas()\n",
    "\n",
    "for model_name in models:\n",
    "    new_code_col = f'generated code for {model_name} docstring'\n",
    "    generated_docstrings_data[new_code_col] = None\n",
    "    missing_values_mask = generated_docstrings_data[new_code_col].isna()\n",
    "    generated_docstrings_data.loc[missing_values_mask, [new_code_col]] = (\n",
    "        generated_docstrings_data.loc[missing_values_mask, model_name].progress_apply(\n",
    "            lambda x: generate_code_from_docstring(x, chain_gemini_flash)\n",
    "        )\n",
    "    )\n",
    "    # Debugging: Print the generated docstrings\n",
    "    print(generated_docstrings_data.loc[missing_values_mask, [new_code_col]])\n",
    "\n",
    "generated_docstrings_data.to_csv(\"code_gen_based_on_docstrings_gemini_flash.csv\", index=False)"
   ]
  }
 ],
 "metadata": {
  "kernelspec": {
   "display_name": "Python 3",
   "language": "python",
   "name": "python3"
  },
  "language_info": {
   "codemirror_mode": {
    "name": "ipython",
    "version": 3
   },
   "file_extension": ".py",
   "mimetype": "text/x-python",
   "name": "python",
   "nbconvert_exporter": "python",
   "pygments_lexer": "ipython3",
   "version": "3.10.11"
  }
 },
 "nbformat": 4,
 "nbformat_minor": 2
}
